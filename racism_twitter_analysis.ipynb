{
 "cells": [
  {
   "cell_type": "markdown",
   "id": "2f6300d5",
   "metadata": {},
   "source": [
    "## Racist Tweets Analysis\n",
    "\n",
    "This is a supervised machine learning project using logistic regression model to identify racist tweets"
   ]
  },
  {
   "cell_type": "markdown",
   "id": "2ac1724f",
   "metadata": {},
   "source": [
    "### Imports"
   ]
  },
  {
   "cell_type": "code",
   "execution_count": 1,
   "id": "feca418d-26da-4b1c-a4b5-dfcf3fe4c3f6",
   "metadata": {},
   "outputs": [],
   "source": [
    "# library  for using regular expressions \n",
    "import re\n",
    "# used for reading, modifying, sorting, or deleting in the dataset\n",
    "import pandas as pd\n",
    "# used for numbers and matrices\n",
    "import numpy as np\n",
    "# plotting library\n",
    "import matplotlib.pyplot as plt\n",
    "# used for plotting seaborn plots and visualising data\n",
    "import seaborn as sns\n",
    "# used for a number of constants and classes\n",
    "import string\n",
    "# natural language processing\n",
    "import nltk\n",
    "# used to ignore deprecation warnings\n",
    "import warnings\n",
    "warnings.filterwarnings(\"ignore\",category = DeprecationWarning)\n",
    "# used to  show the plots in the notebook instead of a separate window\n",
    "%matplotlib inline"
   ]
  },
  {
   "cell_type": "markdown",
   "id": "c95622c2",
   "metadata": {},
   "source": [
    "### Reading the Datasets"
   ]
  },
  {
   "cell_type": "code",
   "execution_count": 2,
   "id": "f2c79095-58b0-456e-abc6-cab60f607a38",
   "metadata": {},
   "outputs": [],
   "source": [
    "# reading the datasets\n",
    "train = pd.read_csv(\"train.csv\")\n",
    "test = pd.read_csv(\"test.csv\")"
   ]
  },
  {
   "cell_type": "code",
   "execution_count": 3,
   "id": "68fb751a-09de-439a-9bec-2a8b30f4af38",
   "metadata": {},
   "outputs": [
    {
     "data": {
      "text/html": [
       "<div>\n",
       "<style scoped>\n",
       "    .dataframe tbody tr th:only-of-type {\n",
       "        vertical-align: middle;\n",
       "    }\n",
       "\n",
       "    .dataframe tbody tr th {\n",
       "        vertical-align: top;\n",
       "    }\n",
       "\n",
       "    .dataframe thead th {\n",
       "        text-align: right;\n",
       "    }\n",
       "</style>\n",
       "<table border=\"1\" class=\"dataframe\">\n",
       "  <thead>\n",
       "    <tr style=\"text-align: right;\">\n",
       "      <th></th>\n",
       "      <th>id</th>\n",
       "      <th>label</th>\n",
       "      <th>tweet</th>\n",
       "    </tr>\n",
       "  </thead>\n",
       "  <tbody>\n",
       "    <tr>\n",
       "      <th>0</th>\n",
       "      <td>1</td>\n",
       "      <td>0</td>\n",
       "      <td>@user when a father is dysfunctional and is s...</td>\n",
       "    </tr>\n",
       "    <tr>\n",
       "      <th>1</th>\n",
       "      <td>2</td>\n",
       "      <td>0</td>\n",
       "      <td>@user @user thanks for #lyft credit i can't us...</td>\n",
       "    </tr>\n",
       "    <tr>\n",
       "      <th>2</th>\n",
       "      <td>3</td>\n",
       "      <td>0</td>\n",
       "      <td>bihday your majesty</td>\n",
       "    </tr>\n",
       "    <tr>\n",
       "      <th>3</th>\n",
       "      <td>4</td>\n",
       "      <td>0</td>\n",
       "      <td>#model   i love u take with u all the time in ...</td>\n",
       "    </tr>\n",
       "    <tr>\n",
       "      <th>4</th>\n",
       "      <td>5</td>\n",
       "      <td>0</td>\n",
       "      <td>factsguide: society now    #motivation</td>\n",
       "    </tr>\n",
       "  </tbody>\n",
       "</table>\n",
       "</div>"
      ],
      "text/plain": [
       "   id  label                                              tweet\n",
       "0   1      0   @user when a father is dysfunctional and is s...\n",
       "1   2      0  @user @user thanks for #lyft credit i can't us...\n",
       "2   3      0                                bihday your majesty\n",
       "3   4      0  #model   i love u take with u all the time in ...\n",
       "4   5      0             factsguide: society now    #motivation"
      ]
     },
     "execution_count": 3,
     "metadata": {},
     "output_type": "execute_result"
    }
   ],
   "source": [
    "#  shows the top rows in the dataset\n",
    "train.head()"
   ]
  },
  {
   "cell_type": "code",
   "execution_count": 4,
   "id": "1f55b7db-443a-4152-8a96-e4dc68a00089",
   "metadata": {},
   "outputs": [
    {
     "data": {
      "text/html": [
       "<div>\n",
       "<style scoped>\n",
       "    .dataframe tbody tr th:only-of-type {\n",
       "        vertical-align: middle;\n",
       "    }\n",
       "\n",
       "    .dataframe tbody tr th {\n",
       "        vertical-align: top;\n",
       "    }\n",
       "\n",
       "    .dataframe thead th {\n",
       "        text-align: right;\n",
       "    }\n",
       "</style>\n",
       "<table border=\"1\" class=\"dataframe\">\n",
       "  <thead>\n",
       "    <tr style=\"text-align: right;\">\n",
       "      <th></th>\n",
       "      <th>id</th>\n",
       "      <th>tweet</th>\n",
       "    </tr>\n",
       "  </thead>\n",
       "  <tbody>\n",
       "    <tr>\n",
       "      <th>0</th>\n",
       "      <td>31963</td>\n",
       "      <td>#studiolife #aislife #requires #passion #dedic...</td>\n",
       "    </tr>\n",
       "    <tr>\n",
       "      <th>1</th>\n",
       "      <td>31964</td>\n",
       "      <td>@user #white #supremacists want everyone to s...</td>\n",
       "    </tr>\n",
       "    <tr>\n",
       "      <th>2</th>\n",
       "      <td>31965</td>\n",
       "      <td>safe ways to heal your #acne!!    #altwaystohe...</td>\n",
       "    </tr>\n",
       "    <tr>\n",
       "      <th>3</th>\n",
       "      <td>31966</td>\n",
       "      <td>is the hp and the cursed child book up for res...</td>\n",
       "    </tr>\n",
       "    <tr>\n",
       "      <th>4</th>\n",
       "      <td>31967</td>\n",
       "      <td>3rd #bihday to my amazing, hilarious #nephew...</td>\n",
       "    </tr>\n",
       "  </tbody>\n",
       "</table>\n",
       "</div>"
      ],
      "text/plain": [
       "      id                                              tweet\n",
       "0  31963  #studiolife #aislife #requires #passion #dedic...\n",
       "1  31964   @user #white #supremacists want everyone to s...\n",
       "2  31965  safe ways to heal your #acne!!    #altwaystohe...\n",
       "3  31966  is the hp and the cursed child book up for res...\n",
       "4  31967    3rd #bihday to my amazing, hilarious #nephew..."
      ]
     },
     "execution_count": 4,
     "metadata": {},
     "output_type": "execute_result"
    }
   ],
   "source": [
    "test.head()"
   ]
  },
  {
   "cell_type": "markdown",
   "id": "3495dce6",
   "metadata": {},
   "source": [
    "The train and test datasets are combined ignoring their labels (they don't have the same index)"
   ]
  },
  {
   "cell_type": "code",
   "execution_count": 5,
   "id": "dac3d592-8261-4164-978b-d756c23c5fe6",
   "metadata": {},
   "outputs": [],
   "source": [
    "combination = train.append(test,ignore_index=True)"
   ]
  },
  {
   "cell_type": "code",
   "execution_count": 6,
   "id": "dd0c4dcf-d197-49a4-9f47-2cfd8e3e25a4",
   "metadata": {},
   "outputs": [
    {
     "data": {
      "text/html": [
       "<div>\n",
       "<style scoped>\n",
       "    .dataframe tbody tr th:only-of-type {\n",
       "        vertical-align: middle;\n",
       "    }\n",
       "\n",
       "    .dataframe tbody tr th {\n",
       "        vertical-align: top;\n",
       "    }\n",
       "\n",
       "    .dataframe thead th {\n",
       "        text-align: right;\n",
       "    }\n",
       "</style>\n",
       "<table border=\"1\" class=\"dataframe\">\n",
       "  <thead>\n",
       "    <tr style=\"text-align: right;\">\n",
       "      <th></th>\n",
       "      <th>id</th>\n",
       "      <th>label</th>\n",
       "      <th>tweet</th>\n",
       "    </tr>\n",
       "  </thead>\n",
       "  <tbody>\n",
       "    <tr>\n",
       "      <th>0</th>\n",
       "      <td>1</td>\n",
       "      <td>0.0</td>\n",
       "      <td>@user when a father is dysfunctional and is s...</td>\n",
       "    </tr>\n",
       "    <tr>\n",
       "      <th>1</th>\n",
       "      <td>2</td>\n",
       "      <td>0.0</td>\n",
       "      <td>@user @user thanks for #lyft credit i can't us...</td>\n",
       "    </tr>\n",
       "    <tr>\n",
       "      <th>2</th>\n",
       "      <td>3</td>\n",
       "      <td>0.0</td>\n",
       "      <td>bihday your majesty</td>\n",
       "    </tr>\n",
       "    <tr>\n",
       "      <th>3</th>\n",
       "      <td>4</td>\n",
       "      <td>0.0</td>\n",
       "      <td>#model   i love u take with u all the time in ...</td>\n",
       "    </tr>\n",
       "    <tr>\n",
       "      <th>4</th>\n",
       "      <td>5</td>\n",
       "      <td>0.0</td>\n",
       "      <td>factsguide: society now    #motivation</td>\n",
       "    </tr>\n",
       "  </tbody>\n",
       "</table>\n",
       "</div>"
      ],
      "text/plain": [
       "   id  label                                              tweet\n",
       "0   1    0.0   @user when a father is dysfunctional and is s...\n",
       "1   2    0.0  @user @user thanks for #lyft credit i can't us...\n",
       "2   3    0.0                                bihday your majesty\n",
       "3   4    0.0  #model   i love u take with u all the time in ...\n",
       "4   5    0.0             factsguide: society now    #motivation"
      ]
     },
     "execution_count": 6,
     "metadata": {},
     "output_type": "execute_result"
    }
   ],
   "source": [
    "combination.head()"
   ]
  },
  {
   "cell_type": "markdown",
   "id": "3fdef6e1",
   "metadata": {},
   "source": [
    "Create a funtion that finds the occurances of a certain pattern in a string and stores them in a list then for each word in the list the word removed or subbed with an empty string"
   ]
  },
  {
   "cell_type": "code",
   "execution_count": 7,
   "id": "19fef655-1f6b-46e5-a824-cb42639a40e7",
   "metadata": {},
   "outputs": [],
   "source": [
    "def delete_pattern(string, pattern):\n",
    "    changes = re.findall(pattern,string)\n",
    "    for word in changes:\n",
    "        string = re.sub(word,\"\",string)\n",
    "    return string"
   ]
  },
  {
   "cell_type": "markdown",
   "id": "bb764427",
   "metadata": {},
   "source": [
    "This line is used to remove twitter handles. A new attribute named \"cleaned tweet\" is created and contains the tweet after preprocessing. \n",
    "np.vectorize takes a function and applies it to each row in the specified column here it takes a regular expression consisting of @ followed by any word"
   ]
  },
  {
   "cell_type": "code",
   "execution_count": 8,
   "id": "d001995e-01bd-4347-9d36-072993994343",
   "metadata": {},
   "outputs": [],
   "source": [
    "combination[\"cleaned tweet\"] = np.vectorize(delete_pattern)(combination[\"tweet\"], \"@[\\w]*\")"
   ]
  },
  {
   "cell_type": "markdown",
   "id": "a1724a79",
   "metadata": {},
   "source": [
    "The cleaned tweet is converted to string then any special characters, numbers, and punctuation with a whitespace are replaced.\n",
    "regex is set to true for replace to word with a regular expression"
   ]
  },
  {
   "cell_type": "code",
   "execution_count": 9,
   "id": "ca5d34a9-c361-4fbc-9e26-0f4535d61b65",
   "metadata": {},
   "outputs": [],
   "source": [
    "combination[\"cleaned tweet\"] = combination[\"cleaned tweet\"].str.replace(\"[^a-zA-Z#]\",\" \",regex = True)"
   ]
  },
  {
   "cell_type": "markdown",
   "id": "7f63ac54",
   "metadata": {},
   "source": [
    "A lambda function is applied on all rows in cleaned tweet. This function combines the strings leaving spaces between them.\n",
    ".split is used to give a list of words if the length of the word is greater than 4. This removes the short words of less than 3 characters as they will not affect analysis."
   ]
  },
  {
   "cell_type": "code",
   "execution_count": 10,
   "id": "df13a771-0dc9-4bb4-8028-be941a7c14d0",
   "metadata": {},
   "outputs": [],
   "source": [
    "\n",
    "combination[\"cleaned tweet\"] = combination[\"cleaned tweet\"].apply(lambda tweet: \" \".join([word for word in tweet.split() if len(word) >=4]))"
   ]
  },
  {
   "cell_type": "code",
   "execution_count": 11,
   "id": "7d265e66-b4c5-48de-9843-80c06d3691a7",
   "metadata": {},
   "outputs": [
    {
     "data": {
      "text/html": [
       "<div>\n",
       "<style scoped>\n",
       "    .dataframe tbody tr th:only-of-type {\n",
       "        vertical-align: middle;\n",
       "    }\n",
       "\n",
       "    .dataframe tbody tr th {\n",
       "        vertical-align: top;\n",
       "    }\n",
       "\n",
       "    .dataframe thead th {\n",
       "        text-align: right;\n",
       "    }\n",
       "</style>\n",
       "<table border=\"1\" class=\"dataframe\">\n",
       "  <thead>\n",
       "    <tr style=\"text-align: right;\">\n",
       "      <th></th>\n",
       "      <th>id</th>\n",
       "      <th>label</th>\n",
       "      <th>tweet</th>\n",
       "      <th>cleaned tweet</th>\n",
       "    </tr>\n",
       "  </thead>\n",
       "  <tbody>\n",
       "    <tr>\n",
       "      <th>0</th>\n",
       "      <td>1</td>\n",
       "      <td>0.0</td>\n",
       "      <td>@user when a father is dysfunctional and is s...</td>\n",
       "      <td>when father dysfunctional selfish drags kids i...</td>\n",
       "    </tr>\n",
       "    <tr>\n",
       "      <th>1</th>\n",
       "      <td>2</td>\n",
       "      <td>0.0</td>\n",
       "      <td>@user @user thanks for #lyft credit i can't us...</td>\n",
       "      <td>thanks #lyft credit cause they offer wheelchai...</td>\n",
       "    </tr>\n",
       "    <tr>\n",
       "      <th>2</th>\n",
       "      <td>3</td>\n",
       "      <td>0.0</td>\n",
       "      <td>bihday your majesty</td>\n",
       "      <td>bihday your majesty</td>\n",
       "    </tr>\n",
       "    <tr>\n",
       "      <th>3</th>\n",
       "      <td>4</td>\n",
       "      <td>0.0</td>\n",
       "      <td>#model   i love u take with u all the time in ...</td>\n",
       "      <td>#model love take with time</td>\n",
       "    </tr>\n",
       "    <tr>\n",
       "      <th>4</th>\n",
       "      <td>5</td>\n",
       "      <td>0.0</td>\n",
       "      <td>factsguide: society now    #motivation</td>\n",
       "      <td>factsguide society #motivation</td>\n",
       "    </tr>\n",
       "  </tbody>\n",
       "</table>\n",
       "</div>"
      ],
      "text/plain": [
       "   id  label                                              tweet  \\\n",
       "0   1    0.0   @user when a father is dysfunctional and is s...   \n",
       "1   2    0.0  @user @user thanks for #lyft credit i can't us...   \n",
       "2   3    0.0                                bihday your majesty   \n",
       "3   4    0.0  #model   i love u take with u all the time in ...   \n",
       "4   5    0.0             factsguide: society now    #motivation   \n",
       "\n",
       "                                       cleaned tweet  \n",
       "0  when father dysfunctional selfish drags kids i...  \n",
       "1  thanks #lyft credit cause they offer wheelchai...  \n",
       "2                                bihday your majesty  \n",
       "3                         #model love take with time  \n",
       "4                     factsguide society #motivation  "
      ]
     },
     "execution_count": 11,
     "metadata": {},
     "output_type": "execute_result"
    }
   ],
   "source": [
    "combination.head()"
   ]
  },
  {
   "cell_type": "markdown",
   "id": "b1dc7ff4",
   "metadata": {},
   "source": [
    "A lambda function is applied on the cleaned tweet column. It takes the string and splits it giving a list of words."
   ]
  },
  {
   "cell_type": "code",
   "execution_count": 12,
   "id": "9791961a-fe3b-46b5-9634-4de189ee2f80",
   "metadata": {},
   "outputs": [],
   "source": [
    "tokenized = combination[\"cleaned tweet\"].apply(lambda string: string.split()) "
   ]
  },
  {
   "cell_type": "code",
   "execution_count": 13,
   "id": "f85cd757-468f-44fa-93a4-09dde16de0c0",
   "metadata": {},
   "outputs": [
    {
     "data": {
      "text/plain": [
       "0    [when, father, dysfunctional, selfish, drags, ...\n",
       "1    [thanks, #lyft, credit, cause, they, offer, wh...\n",
       "2                              [bihday, your, majesty]\n",
       "3                     [#model, love, take, with, time]\n",
       "4                   [factsguide, society, #motivation]\n",
       "Name: cleaned tweet, dtype: object"
      ]
     },
     "execution_count": 13,
     "metadata": {},
     "output_type": "execute_result"
    }
   ],
   "source": [
    "tokenized.head()"
   ]
  },
  {
   "cell_type": "code",
   "execution_count": 14,
   "id": "cc2cda69-b96e-4794-9d67-70ffcea875cb",
   "metadata": {},
   "outputs": [],
   "source": [
    "\"\"\"\n",
    "nltk library is used to stem each word\n",
    "stemming is the  process used to strip the suffixes from a word\n",
    "\"\"\"\n",
    "stemmer = nltk.PorterStemmer()\n",
    "tokenized = tokenized.apply(lambda string: [stemmer.stem(word) for word in string])"
   ]
  },
  {
   "cell_type": "code",
   "execution_count": 15,
   "id": "4217acd5-8205-45a7-8bbf-24da62b2e470",
   "metadata": {},
   "outputs": [
    {
     "data": {
      "text/plain": [
       "0    [when, father, dysfunct, selfish, drag, kid, i...\n",
       "1    [thank, #lyft, credit, caus, they, offer, whee...\n",
       "2                              [bihday, your, majesti]\n",
       "3                     [#model, love, take, with, time]\n",
       "4                         [factsguid, societi, #motiv]\n",
       "Name: cleaned tweet, dtype: object"
      ]
     },
     "execution_count": 15,
     "metadata": {},
     "output_type": "execute_result"
    }
   ],
   "source": [
    "tokenized.head()"
   ]
  },
  {
   "cell_type": "markdown",
   "id": "bc3e04b6",
   "metadata": {},
   "source": [
    "The tokens together are stitched back together to go back to a sentence"
   ]
  },
  {
   "cell_type": "code",
   "execution_count": 16,
   "id": "c6fad6b8-d7d0-4faf-81fb-8fcd3557b4d0",
   "metadata": {},
   "outputs": [],
   "source": [
    "for i in range(0,len(tokenized)):\n",
    "    tokenized[i] = \" \".join(tokenized[i])\n",
    "combination[\"cleaned tweet\"] = tokenized"
   ]
  },
  {
   "cell_type": "code",
   "execution_count": 17,
   "id": "633882a7-f24b-4692-afc5-72ccd7cbfbc1",
   "metadata": {},
   "outputs": [
    {
     "data": {
      "text/html": [
       "<div>\n",
       "<style scoped>\n",
       "    .dataframe tbody tr th:only-of-type {\n",
       "        vertical-align: middle;\n",
       "    }\n",
       "\n",
       "    .dataframe tbody tr th {\n",
       "        vertical-align: top;\n",
       "    }\n",
       "\n",
       "    .dataframe thead th {\n",
       "        text-align: right;\n",
       "    }\n",
       "</style>\n",
       "<table border=\"1\" class=\"dataframe\">\n",
       "  <thead>\n",
       "    <tr style=\"text-align: right;\">\n",
       "      <th></th>\n",
       "      <th>id</th>\n",
       "      <th>label</th>\n",
       "      <th>tweet</th>\n",
       "      <th>cleaned tweet</th>\n",
       "    </tr>\n",
       "  </thead>\n",
       "  <tbody>\n",
       "    <tr>\n",
       "      <th>0</th>\n",
       "      <td>1</td>\n",
       "      <td>0.0</td>\n",
       "      <td>@user when a father is dysfunctional and is s...</td>\n",
       "      <td>when father dysfunct selfish drag kid into dys...</td>\n",
       "    </tr>\n",
       "    <tr>\n",
       "      <th>1</th>\n",
       "      <td>2</td>\n",
       "      <td>0.0</td>\n",
       "      <td>@user @user thanks for #lyft credit i can't us...</td>\n",
       "      <td>thank #lyft credit caus they offer wheelchair ...</td>\n",
       "    </tr>\n",
       "    <tr>\n",
       "      <th>2</th>\n",
       "      <td>3</td>\n",
       "      <td>0.0</td>\n",
       "      <td>bihday your majesty</td>\n",
       "      <td>bihday your majesti</td>\n",
       "    </tr>\n",
       "    <tr>\n",
       "      <th>3</th>\n",
       "      <td>4</td>\n",
       "      <td>0.0</td>\n",
       "      <td>#model   i love u take with u all the time in ...</td>\n",
       "      <td>#model love take with time</td>\n",
       "    </tr>\n",
       "    <tr>\n",
       "      <th>4</th>\n",
       "      <td>5</td>\n",
       "      <td>0.0</td>\n",
       "      <td>factsguide: society now    #motivation</td>\n",
       "      <td>factsguid societi #motiv</td>\n",
       "    </tr>\n",
       "  </tbody>\n",
       "</table>\n",
       "</div>"
      ],
      "text/plain": [
       "   id  label                                              tweet  \\\n",
       "0   1    0.0   @user when a father is dysfunctional and is s...   \n",
       "1   2    0.0  @user @user thanks for #lyft credit i can't us...   \n",
       "2   3    0.0                                bihday your majesty   \n",
       "3   4    0.0  #model   i love u take with u all the time in ...   \n",
       "4   5    0.0             factsguide: society now    #motivation   \n",
       "\n",
       "                                       cleaned tweet  \n",
       "0  when father dysfunct selfish drag kid into dys...  \n",
       "1  thank #lyft credit caus they offer wheelchair ...  \n",
       "2                                bihday your majesti  \n",
       "3                         #model love take with time  \n",
       "4                           factsguid societi #motiv  "
      ]
     },
     "execution_count": 17,
     "metadata": {},
     "output_type": "execute_result"
    }
   ],
   "source": [
    "combination.head()"
   ]
  },
  {
   "cell_type": "markdown",
   "id": "81dc17a8",
   "metadata": {},
   "source": [
    "This function finds all the hashtags that are followed by a word they are then appended to list and returned"
   ]
  },
  {
   "cell_type": "code",
   "execution_count": 18,
   "id": "5c20c10d-b783-40ab-b966-a185b9c120e7",
   "metadata": {},
   "outputs": [],
   "source": [
    "def findhashtags(string):\n",
    "    hashtags = []\n",
    "    for word in string:\n",
    "        hashtag = re.findall(r\"#(\\w+)\", word)\n",
    "        hashtags.append(hashtag)\n",
    "    return hashtags"
   ]
  },
  {
   "cell_type": "markdown",
   "id": "03fe9156",
   "metadata": {},
   "source": [
    "Two lists are created for racist and non-racist hashtags. The dataset is  already labelled with zero and one where zero is non-racist and one is racist. The string passed to the findhashtags takes the condition where the label == 0 for non racist and == 1 for racist. Since combination has test data which is unlabelled, if the field isn't found it is ignored (only training data is used for this part)."
   ]
  },
  {
   "cell_type": "code",
   "execution_count": 19,
   "id": "f00c35d3-75b0-4cb1-8a5b-3b5efb0b2aa3",
   "metadata": {},
   "outputs": [],
   "source": [
    "non_racist_hashtags = findhashtags(combination[\"cleaned tweet\"][combination[\"label\"] == 0])\n",
    "racist_hashtags = findhashtags(combination[\"cleaned tweet\"][combination[\"label\"] == 1])\n",
    "\n",
    "#these functions remove the empty sets\n",
    "non_racist_hashtags = sum(non_racist_hashtags,[])\n",
    "racist_hashtags = sum(racist_hashtags,[])"
   ]
  },
  {
   "cell_type": "markdown",
   "id": "8bafcbb1",
   "metadata": {},
   "source": [
    "### Data Visualization\n",
    "\n",
    "Frequency distribution plots are created for the racist and non racist hashtags."
   ]
  },
  {
   "cell_type": "markdown",
   "id": "06c50e70",
   "metadata": {},
   "source": [
    "#### Racist Hashtags Graph"
   ]
  },
  {
   "cell_type": "code",
   "execution_count": 20,
   "id": "caf28122-7960-4c32-b192-5b19c5252c3f",
   "metadata": {},
   "outputs": [
    {
     "data": {
      "image/png": "[encoded data removed]",
      "text/plain": [
       "<Figure size 1152x360 with 1 Axes>"
      ]
     },
     "metadata": {
      "needs_background": "light"
     },
     "output_type": "display_data"
    }
   ],
   "source": [
    "\"\"\"\n",
    "this section creates a frequency distribution for the hashtags in order to visualize them\n",
    "\"\"\"\n",
    "a = nltk.FreqDist(racist_hashtags)\n",
    "d = pd.DataFrame(\n",
    "    {\n",
    "      'Hashtag': list(a.keys()), #hashtags contains the hashtag names\n",
    "     'Frequency': list(a.values())} # frequency has the values or the frequency\n",
    "    )\n",
    "d = d.nlargest(columns=\"Frequency\", n=10) #gets the highest 10 frequencies \n",
    "plt.figure(figsize=(16,5)) #plots the graph with specific dimensions\n",
    "ax = sns.barplot(data=d, x= \"Hashtag\", y=\"Frequency\") # graph data, axis data\n",
    "ax.set(ylabel = 'Frequency') # sets the label to \"frequency\"\n",
    "plt.show() #prints the graph"
   ]
  },
  {
   "cell_type": "markdown",
   "id": "525d3dcd",
   "metadata": {},
   "source": [
    "#### Non-racist Hashtags Graph"
   ]
  },
  {
   "cell_type": "code",
   "execution_count": 21,
   "id": "4e1c1660-7875-42e6-b3f1-7ee4c508a687",
   "metadata": {},
   "outputs": [
    {
     "data": {
      "image/png": "[encoded data removed]",
      "text/plain": [
       "<Figure size 1152x360 with 1 Axes>"
      ]
     },
     "metadata": {
      "needs_background": "light"
     },
     "output_type": "display_data"
    }
   ],
   "source": [
    "\"\"\"\n",
    "the graph methods are applied for the non  racist hashtags\n",
    "\"\"\"\n",
    "a = nltk.FreqDist(non_racist_hashtags)\n",
    "d = pd.DataFrame(\n",
    "    {\n",
    "      'Hashtag': list(a.keys()),\n",
    "     'Frequency': list(a.values())}\n",
    "    )\n",
    "d = d.nlargest(columns=\"Frequency\", n=10)\n",
    "plt.figure(figsize=(16,5))\n",
    "ax = sns.barplot(data=d, x= \"Hashtag\", y=\"Frequency\")\n",
    "ax.set(ylabel = 'Frequency')\n",
    "plt.show()"
   ]
  },
  {
   "cell_type": "markdown",
   "id": "c450a42b",
   "metadata": {},
   "source": [
    "### Machine Learning Model Training"
   ]
  },
  {
   "cell_type": "code",
   "execution_count": 22,
   "id": "3a76c091-b231-4964-9d20-c9d87ed104ed",
   "metadata": {},
   "outputs": [],
   "source": [
    "\"\"\"\n",
    "since machine learning cannot effiecient process the language as it is\n",
    "it is  more efficient to turn those words into numbers\n",
    "bag of words approch is adopted in this case: it involves gathering all the words in the dataset and \n",
    "representing each tweet using this an array to indicate the occurance of each word index in  the bag of words\n",
    "essentially, the tweet becomes a list of frequencies of each word occurance. For example if a word of index 1 \n",
    "in the bag of words does not occur in the tweet then 0 will be used at index 1 in the list representing that word\n",
    "\"\"\"\n",
    "# sklearn is responsible for machine learning\n",
    "from sklearn.feature_extraction.text import CountVectorizer\n",
    "# count vectorizer sets the highest count for words to 1000\n",
    "bowVectorizer = CountVectorizer(max_df=0.90, min_df=2, max_features=1000, stop_words=\"english\")\n",
    "\"\"\"\n",
    "takes a dataset and transforms it to have the same format or coordinates as cleaned tweet combination, \n",
    "essentially maps it to it so for each tweet there is a bag of words  for  it\n",
    "\"\"\"\n",
    "bow = bowVectorizer.fit_transform(combination['cleaned tweet'])"
   ]
  },
  {
   "cell_type": "code",
   "execution_count": 23,
   "id": "1a5db6b7-82b7-441b-a7a0-ad52409a8efc",
   "metadata": {},
   "outputs": [
    {
     "data": {
      "text/plain": [
       "0.5407725321888412"
      ]
     },
     "execution_count": 23,
     "metadata": {},
     "output_type": "execute_result"
    }
   ],
   "source": [
    "\"\"\"\n",
    "logistic regression is a type of supervised learning used when model classification is needed\n",
    "train is solved \n",
    "test is the one that identifies whether training was done right or wrong\n",
    "\"\"\"\n",
    "from sklearn.linear_model import LogisticRegression\n",
    "from sklearn.model_selection import train_test_split\n",
    "from sklearn.metrics import f1_score # measures the correctness of the model\n",
    "\n",
    "# create bag of words for train and test\n",
    "train_bow = bow[:31962,:]\n",
    "test_bow = bow[31962:,:]\n",
    "\n",
    "# splitting data into training and validation set\n",
    "xtraining_data, xtesting_data, ytraining_data, ytesting_data = train_test_split(train_bow, train['label'], random_state=42, test_size=0.3) #30 percent is for testing\n",
    "\n",
    "lreg = LogisticRegression() #initialize the model\n",
    "lreg.fit(xtraining_data, ytraining_data) # training the model\n",
    "\n",
    "prediction = lreg.predict_proba(xtesting_data) # predicting on the validation set, begin solving on testing set\n",
    "prediction_int = prediction[:,1] >= 0.2 # if prediction is greater than or equal to 0.3 than 1 else 0\n",
    "prediction_int = prediction_int.astype(np.int)\n",
    "f1_score(ytesting_data, prediction_int) # calculating f1 score\n"
   ]
  },
  {
   "cell_type": "code",
   "execution_count": 24,
   "id": "bb2a3c11-e91c-4903-bf12-71e9976e6279",
   "metadata": {},
   "outputs": [],
   "source": [
    "\"\"\"\n",
    "applying this to the test dataset\n",
    "\"\"\"\n",
    "test_pred = lreg.predict_proba(test_bow)\n",
    "test_pred_int = test_pred[:,1] >= 0.3\n",
    "test_pred_int = test_pred_int.astype(np.int)\n",
    "test['label'] = test_pred_int\n",
    "submission = test[['tweet','label']]\n",
    "submission.to_csv('racism_twitter_analysis_model_results.csv', index=False) # writing data to a CSV file"
   ]
  }
 ],
 "metadata": {
  "kernelspec": {
   "display_name": "Python 3 (ipykernel)",
   "language": "python",
   "name": "python3"
  },
  "language_info": {
   "codemirror_mode": {
    "name": "ipython",
    "version": 3
   },
   "file_extension": ".py",
   "mimetype": "text/x-python",
   "name": "python",
   "nbconvert_exporter": "python",
   "pygments_lexer": "ipython3",
   "version": "3.9.7"
  }
 },
 "nbformat": 4,
 "nbformat_minor": 5
}
